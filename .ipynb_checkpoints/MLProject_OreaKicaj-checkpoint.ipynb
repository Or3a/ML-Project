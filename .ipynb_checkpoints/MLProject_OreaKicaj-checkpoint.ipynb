{
 "cells": [
  {
   "cell_type": "markdown",
   "id": "49e93468",
   "metadata": {},
   "source": [
    "## Website Phishing detection\n",
    "#### Machine learning"
   ]
  },
  {
   "cell_type": "markdown",
   "id": "dcb714f9",
   "metadata": {},
   "source": [
    "\n",
    "<table style=\"border:hidden;\">\n",
    "    <tr>\n",
    "        <td> \n",
    "            <table style=\"border:hidden;\">\n",
    "                <tr><td><img src=\"images/PhishingAccount.gif\" width=\"400\"> </td></tr>\n",
    "                <tr><td><a href=\"https://storyset.com/web\">Animated at Storyset</a> </td></tr>\n",
    "            </table>\n",
    "        </td>\n",
    "        <td><b>What is happening? </b> \n",
    "            <p align=\"top\"> \n",
    "            Phishing is a way to lure victims into malicious web pages where malware codes are hidden.<br> This way the attacker can intrude the enterprise network, evading firewalls.<br>    Phishing attack continues to pose a serious risk for web users and annoying threat within the field of electronic commerce.<br>\n",
    "            Therefore, it is important to detect phishing URLs and prevent users from visiting them. </p>\n",
    "        </td>\n",
    "    </tr>\n",
    "</table>"
   ]
  },
  {
   "cell_type": "markdown",
   "id": "50eacf35",
   "metadata": {},
   "source": [
    "### What now? \n",
    "<b> Quick preview </b>\n",
    "\n",
    "In this project, I am going to deal with a dataset that contains URL links (Phishing and Legitimate) <br>\n",
    "From this data, I need to discover new features by extracting more information [Url based and HTML & JS based] <br>\n",
    "After creating my new dataset I am going to experiment with different algorithms. <br>\n",
    "Based on the dataset I am intending to create, my models will be generaly classification ones.<br>\n",
    "In the end, I am going to observe and compare the results, see how important are the features I have created and conclude with choosing one of the best algorithms for my dataset. <br>"
   ]
  },
  {
   "cell_type": "markdown",
   "id": "04bac769",
   "metadata": {},
   "source": [
    "### Table of Contents\n",
    "<ul>\n",
    "    <li><a href=\"#import\"> Importing required packages </a></li>\n",
    "    <li><a href=\"#loadingData\"> Loading data </a></li>\n",
    "    <li>\n",
    "        <a href=\"#featureExtraction\"> Feature extraction </a>\n",
    "        <ol>\n",
    "            <li><a href=\"#URL_Length\"> URL length </a></li>\n",
    "            <li><a href=\"#URL_Depth\"> URL depth </a></li>\n",
    "            <li><a href=\"#Digitts_No\"> Digits count </a></li>\n",
    "            <li><a href=\"#Domain_Name\"> Domain name </a></li>\n",
    "            <li><a href=\"#Dots_No\"> Domain Dots count </a></li>\n",
    "            <li><a href=\"#Domain_length\"> Domain length </a></li>\n",
    "            <li><a href=\"#URL_Contains\"> Presence of other Features </a></li>\n",
    "        </ol>\n",
    "    </li>\n",
    "    <li><a href=\"#New_Dataset\"> New dataset </a></li>\n",
    "    <li><a href=\"#Models\"> Algorithm models </a></li>\n",
    "    <li><a href=\"#Observe\"> Observation and comparision </a></li>\n",
    "    <li><a href=\"#References\"> References  </a></li>\n",
    "</ul>"
   ]
  },
  {
   "cell_type": "code",
   "execution_count": 1,
   "id": "88cdb18d",
   "metadata": {},
   "outputs": [
    {
     "data": {
      "text/html": [
       "<a id='import'></a>"
      ],
      "text/plain": [
       "<IPython.core.display.HTML object>"
      ]
     },
     "metadata": {},
     "output_type": "display_data"
    },
    {
     "data": {
      "text/html": [
       "<style>.container { width:100% !important;}</style>"
      ],
      "text/plain": [
       "<IPython.core.display.HTML object>"
      ]
     },
     "metadata": {},
     "output_type": "display_data"
    },
    {
     "data": {
      "text/html": [
       "<h2> Importing required packages </h2>"
      ],
      "text/plain": [
       "<IPython.core.display.HTML object>"
      ]
     },
     "metadata": {},
     "output_type": "display_data"
    }
   ],
   "source": [
    "from IPython.core.display import display, HTML\n",
    "display(HTML(\"<a id='import'></a>\"))\n",
    "display(HTML(\"<style>.container { width:100% !important;}</style>\"))\n",
    "display(HTML(\"<h2> Importing required packages </h2>\"))"
   ]
  },
  {
   "cell_type": "code",
   "execution_count": 2,
   "id": "355c244c",
   "metadata": {},
   "outputs": [],
   "source": [
    "# Importing required packages\n",
    "import pandas as pd  # conda install pandas / pip install pandas\n",
    "import matplotlib.pyplot as plt # conda install matplotlib / pip install matplotlib\n",
    "import seaborn as sns # conda install seaborn / pip install seaborn\n",
    "\n",
    "\n",
    "import numpy as np # conda install numpy / pip install numpy\n",
    "from sklearn.metrics import accuracy_score, precision_score, recall_score, f1_score, mean_squared_error  # for model evaluation metrics\n",
    "\n",
    "# for feature scaling\n",
    "from sklearn.preprocessing import MinMaxScaler  # conda install scikit-learn / pip install scikit-learn\n",
    "\n",
    "# to split the dataset into train and test\n",
    "from sklearn.model_selection import train_test_split\n",
    "\n",
    "# Decision Tree model \n",
    "from sklearn.tree import DecisionTreeClassifier\n",
    "\n",
    "# Random Forest model\n",
    "from sklearn.ensemble import RandomForestClassifier\n",
    "\n",
    "#XGBoost Classification model\n",
    "from xgboost import XGBClassifier # (CPU only) conda install -c conda-forge py-KNNoost-cpu  (Use NVIDIA GPU) conda install -c conda-forge py-KNNoost-gpu / pip install KNNoost\n",
    "\n",
    "# Random Forest model\n",
    "from sklearn.neighbors import KNeighborsClassifier\n",
    "\n",
    "# ANN model\n",
    "from keras.layers import Input, Dense # conda install -c conda-forge keras / pip install keras\n",
    "from keras import regularizers\n",
    "from keras.models import Model"
   ]
  },
  {
   "cell_type": "markdown",
   "id": "707a27b5",
   "metadata": {},
   "source": [
    "<a id='loadingData'></a>\n",
    "### Loading data\n",
    "Legitimate -> 0\n",
    "Phishing -> 1 <br>\n",
    "This dataset contains 20000 balanced URLs (10000 Fishing /10000 Legitimate)"
   ]
  },
  {
   "cell_type": "code",
   "execution_count": 3,
   "id": "8badda27",
   "metadata": {},
   "outputs": [
    {
     "data": {
      "text/html": [
       "<div>\n",
       "<style scoped>\n",
       "    .dataframe tbody tr th:only-of-type {\n",
       "        vertical-align: middle;\n",
       "    }\n",
       "\n",
       "    .dataframe tbody tr th {\n",
       "        vertical-align: top;\n",
       "    }\n",
       "\n",
       "    .dataframe thead th {\n",
       "        text-align: right;\n",
       "    }\n",
       "</style>\n",
       "<table border=\"1\" class=\"dataframe\">\n",
       "  <thead>\n",
       "    <tr style=\"text-align: right;\">\n",
       "      <th></th>\n",
       "      <th>Labels</th>\n",
       "      <th>URLs</th>\n",
       "    </tr>\n",
       "  </thead>\n",
       "  <tbody>\n",
       "    <tr>\n",
       "      <th>0</th>\n",
       "      <td>1</td>\n",
       "      <td>http://dbs.vote-friend.com/sg?ref=anything</td>\n",
       "    </tr>\n",
       "    <tr>\n",
       "      <th>1</th>\n",
       "      <td>0</td>\n",
       "      <td>https://www.reynoldstransfer.com/versa-lift-fo...</td>\n",
       "    </tr>\n",
       "    <tr>\n",
       "      <th>2</th>\n",
       "      <td>1</td>\n",
       "      <td>https://www.halisupportservice.com/Login.php</td>\n",
       "    </tr>\n",
       "    <tr>\n",
       "      <th>3</th>\n",
       "      <td>0</td>\n",
       "      <td>https://www.signets.com.br/wp-includes/wlwmani...</td>\n",
       "    </tr>\n",
       "    <tr>\n",
       "      <th>4</th>\n",
       "      <td>1</td>\n",
       "      <td>https://docs.google.com/document/d/e/2PACX-1vT...</td>\n",
       "    </tr>\n",
       "    <tr>\n",
       "      <th>5</th>\n",
       "      <td>0</td>\n",
       "      <td>https://www.iwestco.com/virtual-consult/</td>\n",
       "    </tr>\n",
       "    <tr>\n",
       "      <th>6</th>\n",
       "      <td>1</td>\n",
       "      <td>https://is.gd/N19JOz</td>\n",
       "    </tr>\n",
       "    <tr>\n",
       "      <th>7</th>\n",
       "      <td>1</td>\n",
       "      <td>https://httpsservices.runescape.com-ov.ru/</td>\n",
       "    </tr>\n",
       "    <tr>\n",
       "      <th>8</th>\n",
       "      <td>1</td>\n",
       "      <td>https://viandjo.com/website/membership/service...</td>\n",
       "    </tr>\n",
       "    <tr>\n",
       "      <th>9</th>\n",
       "      <td>0</td>\n",
       "      <td>https://www.millect.com/Plans/tabid/76/Default...</td>\n",
       "    </tr>\n",
       "  </tbody>\n",
       "</table>\n",
       "</div>"
      ],
      "text/plain": [
       "   Labels                                               URLs\n",
       "0       1         http://dbs.vote-friend.com/sg?ref=anything\n",
       "1       0  https://www.reynoldstransfer.com/versa-lift-fo...\n",
       "2       1       https://www.halisupportservice.com/Login.php\n",
       "3       0  https://www.signets.com.br/wp-includes/wlwmani...\n",
       "4       1  https://docs.google.com/document/d/e/2PACX-1vT...\n",
       "5       0           https://www.iwestco.com/virtual-consult/\n",
       "6       1                               https://is.gd/N19JOz\n",
       "7       1         https://httpsservices.runescape.com-ov.ru/\n",
       "8       1  https://viandjo.com/website/membership/service...\n",
       "9       0  https://www.millect.com/Plans/tabid/76/Default..."
      ]
     },
     "execution_count": 3,
     "metadata": {},
     "output_type": "execute_result"
    }
   ],
   "source": [
    "# Loading the data\n",
    "urlData = pd.read_csv(\"data/data_bal20000.csv\")\n",
    "\n",
    "# Please, If you want to load less data for testing purposes, uncomment the following line:\n",
    "urlData = urlData[0:499]\n",
    "\n",
    "urlData.head(10)"
   ]
  },
  {
   "cell_type": "markdown",
   "id": "5509b88e",
   "metadata": {},
   "source": [
    "<a id='featureExtraction'></a>\n",
    "### Feature extraction\n",
    "By doing feature extraction I also make sure that data will be clean 🧹 and ready to use.\n",
    "\n",
    "\n",
    "The values of the features are going to be: <br>\n",
    "1 -> Legitimate <br>\n",
    "0 -> Fishing <br>\n",
    "-1 -> Suspicious <br>"
   ]
  },
  {
   "cell_type": "code",
   "execution_count": 4,
   "id": "4e38c2f2",
   "metadata": {},
   "outputs": [],
   "source": [
    "# Importing the functions for the URL features\n",
    "from URL_Features import getDomain, getURL_Length, getDomain_Length, getURL_Depth, getURL_IP, getURL_AtSymbol, getURLDomain_HTTP\n",
    "from URL_Features import getURL_RedirectPosition, getURL_HyphenInDomain, getURL_Dot, getURL_HTTPs, getURL_ASCII, getURL_Digits\n",
    "from HTMLJS_Features import HTMLJS_FeaturesThreading"
   ]
  },
  {
   "cell_type": "markdown",
   "id": "0190e98b",
   "metadata": {},
   "source": [
    "<a id='URL_Length'></a>\n",
    "##### URL length\n",
    "\n",
    "Let's see how the length of the URL differs from PHISHING to LEGITIMATE URLs"
   ]
  },
  {
   "cell_type": "code",
   "execution_count": 5,
   "id": "6288e1fe",
   "metadata": {},
   "outputs": [
    {
     "name": "stderr",
     "output_type": "stream",
     "text": [
      "c:\\Users\\Or3a\\anaconda3\\lib\\site-packages\\seaborn\\axisgrid.py:88: UserWarning: Tight layout not applied. The left and right margins cannot be made large enough to accommodate all axes decorations. \n",
      "  self._figure.tight_layout(*args, **kwargs)\n"
     ]
    },
    {
     "data": {
      "image/png": "[encoded data removed]",
      "text/plain": [
       "<Figure size 864x432 with 1 Axes>"
      ]
     },
     "metadata": {},
     "output_type": "display_data"
    }
   ],
   "source": [
    "\n",
    "urlData['Length'] = urlData['URLs'].tail(150).str.len()\n",
    "\n",
    "sns.set_style(\"whitegrid\")\n",
    "g = sns.catplot(data=urlData.tail(150), x=\"URLs\", y=\"Length\", hue=\"Labels\", kind=\"bar\")\n",
    "g.set_axis_labels(\"URLs\", \"Length\")\n",
    "\n",
    "g.fig.set_figheight(6)\n",
    "g.fig.set_figwidth(12)\n",
    "\n",
    "g.set(xticks=[])\n",
    "plt.ylim(40, 60)\n",
    "\n",
    "del urlData[\"Length\"]\n"
   ]
  },
  {
   "cell_type": "markdown",
   "id": "f78ae67f",
   "metadata": {},
   "source": [
    "I limited the graph. from 40 to 60, because that's where I noticed some difference.<br>\n",
    "From what I see Legitimate URLs start to reduce noticeably after 48 and almost completely dissapear after 60.<br>\n",
    "By this reasoning I decidet to put: <br>\n",
    "Fishing for Length > 60 <br>\n",
    "Legitimate for Length <= 48 <br>\n",
    "Suspicious for the others in-between\n",
    "<hr />"
   ]
  },
  {
   "cell_type": "markdown",
   "id": "c28e829c",
   "metadata": {},
   "source": [
    "<a id='URL_Depth'></a>\n",
    "##### URL depth\n",
    "\n",
    "Depth is counted from the number of slashes in the URL '/'.\n",
    "This is commonly used by phishers to trick users into thinking the URL is legitimate (mimicking)"
   ]
  },
  {
   "cell_type": "code",
   "execution_count": 6,
   "id": "e8f55b64",
   "metadata": {},
   "outputs": [
    {
     "name": "stderr",
     "output_type": "stream",
     "text": [
      "c:\\Users\\Or3a\\anaconda3\\lib\\site-packages\\seaborn\\axisgrid.py:88: UserWarning: Tight layout not applied. The left and right margins cannot be made large enough to accommodate all axes decorations. \n",
      "  self._figure.tight_layout(*args, **kwargs)\n"
     ]
    },
    {
     "data": {
      "image/png": "[encoded data removed]",
      "text/plain": [
       "<Figure size 864x360 with 1 Axes>"
      ]
     },
     "metadata": {},
     "output_type": "display_data"
    }
   ],
   "source": [
    "\n",
    "urlData['Depth'] = urlData['URLs'].tail(150).str.count('/')\n",
    "\n",
    "sns.set_style(\"whitegrid\")\n",
    "g = sns.catplot(data=urlData.tail(150), x=\"URLs\", y=\"Depth\", hue=\"Labels\", kind=\"bar\")\n",
    "g.set_axis_labels(\"URLs\", \"Depth\")\n",
    "\n",
    "g.fig.set_figheight(5)\n",
    "g.fig.set_figwidth(12)\n",
    "\n",
    "g.set(xticks=[])\n",
    "plt.ylim(0, 10)\n",
    "\n",
    "del urlData[\"Depth\"]"
   ]
  },
  {
   "cell_type": "markdown",
   "id": "147625bb",
   "metadata": {},
   "source": [
    "Following the same steps as the length above, it is even more noticeable that Legitimate URLs are reduced afer 3 and almost not there after 4.<br>\n",
    "So: <br>\n",
    "Fishing for Depth > 4 <br>\n",
    "Legitimate for Length <= 3 <br>\n",
    "Suspicious for the others in-between\n",
    "<hr />"
   ]
  },
  {
   "cell_type": "markdown",
   "id": "5835a1a5",
   "metadata": {},
   "source": [
    "<a id='Digits_No'></a>\n",
    "##### Digits count in the URL\n",
    "In the graph below, we will notice that Phishing URLs have a pretty high number of Digits"
   ]
  },
  {
   "cell_type": "code",
   "execution_count": 7,
   "id": "d7f2f548",
   "metadata": {},
   "outputs": [
    {
     "name": "stderr",
     "output_type": "stream",
     "text": [
      "c:\\Users\\Or3a\\anaconda3\\lib\\site-packages\\seaborn\\axisgrid.py:88: UserWarning: Tight layout not applied. The left and right margins cannot be made large enough to accommodate all axes decorations. \n",
      "  self._figure.tight_layout(*args, **kwargs)\n"
     ]
    },
    {
     "data": {
      "image/png": "[encoded data removed]",
      "text/plain": [
       "<Figure size 864x360 with 1 Axes>"
      ]
     },
     "metadata": {},
     "output_type": "display_data"
    }
   ],
   "source": [
    "\n",
    "urlData['DigitsNo'] = urlData['URLs'].tail(150).str.count('\\d')\n",
    "\n",
    "sns.set_style(\"whitegrid\")\n",
    "g = sns.catplot(data=urlData.tail(150), x=\"URLs\", y=\"DigitsNo\", hue=\"Labels\", kind=\"bar\")\n",
    "g.set_axis_labels(\"URLs\", \"DigitsNo\")\n",
    "\n",
    "g.fig.set_figheight(5)\n",
    "g.fig.set_figwidth(12)\n",
    "\n",
    "g.set(xticks=[])\n",
    "plt.ylim(0, 20)\n",
    "\n",
    "del urlData[\"DigitsNo\"]"
   ]
  },
  {
   "cell_type": "markdown",
   "id": "ea69c1ec",
   "metadata": {},
   "source": [
    "Fishing for Count > 4 <br>\n",
    "Legitimate for Count x <= 2 <br>\n",
    "Suspicious for the others in-between\n",
    "<hr />"
   ]
  },
  {
   "cell_type": "markdown",
   "id": "e276882f",
   "metadata": {},
   "source": [
    "<a id='Redirect_Position'></a>\n",
    "##### Redirect position\n",
    "\n",
    "I have taken into account that a Legitimate URL should start with HTTPS:// <br>\n",
    "\n",
    "The existence of “//” within the URL path means that the user will be redirected to another website. <br>\n",
    "So, in this case the \"//\" position should be only after HTTPS. Every other location apart from after the protocal returns a Phishing value.\n",
    "<hr />"
   ]
  },
  {
   "cell_type": "markdown",
   "id": "35ac4734",
   "metadata": {},
   "source": [
    "<a id='Domain_Name'></a>\n",
    "##### Domain name\n",
    "\n",
    "We need to extract the name of the Domain to find out other related features <br>\n",
    "The domain name is extracted with the help of Regex  <br>\n",
    "- extract(r'^https?://(.*?)/', expand=False) <br>\n",
    "- replace(r'www.', '', regex=True)\n",
    "<hr />"
   ]
  },
  {
   "cell_type": "code",
   "execution_count": 8,
   "id": "6de70b94",
   "metadata": {},
   "outputs": [
    {
     "data": {
      "text/plain": [
       "0                                    dbs.vote-friend.com\n",
       "1                                   reynoldstransfer.com\n",
       "2                                 halisupportservice.com\n",
       "3                                         signets.com.br\n",
       "4                                        docs.google.com\n",
       "                             ...                        \n",
       "494                                         appliedi.net\n",
       "495    sccrhwehklhsjdphwybgvapowe-dot-gl099898987fhkl...\n",
       "496                                        mabp.s-fr.net\n",
       "497                                    amazon.ugjsre.bar\n",
       "498                                        tse6l.csb.app\n",
       "Name: URLs, Length: 499, dtype: object"
      ]
     },
     "execution_count": 8,
     "metadata": {},
     "output_type": "execute_result"
    }
   ],
   "source": [
    "getDomain(urlData)"
   ]
  },
  {
   "cell_type": "markdown",
   "id": "e0ca45fd",
   "metadata": {},
   "source": [
    "<a id='Dots_No'></a>\n",
    "##### Dots count in the Domain name"
   ]
  },
  {
   "cell_type": "code",
   "execution_count": 9,
   "id": "47dc4a44",
   "metadata": {},
   "outputs": [
    {
     "name": "stderr",
     "output_type": "stream",
     "text": [
      "c:\\Users\\Or3a\\anaconda3\\lib\\site-packages\\seaborn\\axisgrid.py:88: UserWarning: Tight layout not applied. The left and right margins cannot be made large enough to accommodate all axes decorations. \n",
      "  self._figure.tight_layout(*args, **kwargs)\n"
     ]
    },
    {
     "data": {
      "image/png": "[encoded data removed]",
      "text/plain": [
       "<Figure size 864x360 with 1 Axes>"
      ]
     },
     "metadata": {},
     "output_type": "display_data"
    }
   ],
   "source": [
    "getDomain(urlData)\n",
    "urlData['DotsNo'] = urlData['Domain'].tail(150).str.count('\\.')\n",
    "\n",
    "sns.set_style(\"whitegrid\")\n",
    "g = sns.catplot(data=urlData.tail(150), x=\"URLs\", y=\"DotsNo\", hue=\"Labels\", kind=\"bar\")\n",
    "g.set_axis_labels(\"URLs\", \"DotsNo\")\n",
    "\n",
    "g.fig.set_figheight(5)\n",
    "g.fig.set_figwidth(12)\n",
    "\n",
    "g.set(xticks=[])\n",
    "plt.ylim(0, 6)\n",
    "\n",
    "del urlData[\"DotsNo\"]"
   ]
  },
  {
   "cell_type": "markdown",
   "id": "fca97650",
   "metadata": {},
   "source": [
    "Fishing for Dots count x > 2 <br>\n",
    "Legitimate for Dots count <= 1 <br>\n",
    "Suspicious for the others in - between\n",
    "<hr />"
   ]
  },
  {
   "cell_type": "markdown",
   "id": "5680804d",
   "metadata": {},
   "source": [
    "<a id='Domain_length'></a>\n",
    "##### Domain length\n",
    "For the same reason we calculated url length, but sometimes Domain length can be a better feature or at least an extra."
   ]
  },
  {
   "cell_type": "code",
   "execution_count": 10,
   "id": "d5dbfaf9",
   "metadata": {},
   "outputs": [
    {
     "data": {
      "image/png": "[encoded data removed]",
      "text/plain": [
       "<Figure size 864x432 with 1 Axes>"
      ]
     },
     "metadata": {},
     "output_type": "display_data"
    }
   ],
   "source": [
    "\n",
    "urlData['DomainLength'] = urlData['Domain'].tail(150).str.len()\n",
    "\n",
    "sns.set_style(\"whitegrid\")\n",
    "g = sns.catplot(data=urlData.tail(150), x=\"Domain\", y=\"DomainLength\", hue=\"Labels\", kind=\"bar\")\n",
    "g.set_axis_labels(\"Domain\", \"DomainLength\")\n",
    "\n",
    "g.fig.set_figheight(6)\n",
    "g.fig.set_figwidth(12)\n",
    "\n",
    "g.set(xticks=[])\n",
    "plt.ylim(0, 40)\n",
    "\n",
    "del urlData[\"DomainLength\"]"
   ]
  },
  {
   "cell_type": "markdown",
   "id": "7f1a24b4",
   "metadata": {},
   "source": [
    "From the graph we notice that not only Domains with greater length are Phishing URLs, but even those with smaller one.<br>\n",
    "\n",
    "Fishing for Length > 18 or < 7 <br>\n",
    "Legitimate for Length <= 12 <br>\n",
    "Suspicious for the others in - between\n",
    "<hr />"
   ]
  },
  {
   "cell_type": "markdown",
   "id": "4a5595ae",
   "metadata": {},
   "source": [
    "<a id='URL_Contains'></a>\n",
    "##### Presence of other features in URLs\n",
    "\n",
    "In most of the URLs there are characters, or numbers and strings that by their presence, define if it's a fishing URL or not. <br>\n",
    "I have taken into consideration: <br>\n",
    "<ul>\n",
    "    <li> HTTP/HTTPS presence in Domain </li>\n",
    "    <li> Hyphen presence in URL Domain </li>\n",
    "    <li> URL @ symbol presence </li>\n",
    "    <li> Non ASCII characters in URL </li>\n",
    "    <li> IP address presence in URL </li>\n",
    "    <li> Transport layer security (TLS) presence in URL </li>\n",
    "</ul>\n",
    "<hr />"
   ]
  },
  {
   "cell_type": "markdown",
   "id": "14c37c75",
   "metadata": {},
   "source": [
    "<a id='HTML_JS'></a>\n",
    "##### HTML and JS Features\n",
    "\n",
    "I have used BeautifulSoup Library to scrape available (legal) data from the websites <br>\n",
    "From there HTML and JS features can be extracted. The most common ones I saw are the ones I have listed below. <br>\n",
    "\n",
    "<ul>\n",
    "    <li> Disabled right click </li>\n",
    "    <li> Number of web forwards </li>\n",
    "    <li> Window popup existance </li>\n",
    "    <li> Hidden Iframe redirection</li>\n",
    "</ul>\n",
    "\n",
    "Another special one is the Percentage of the same URLs(Domain) that are equal to the one we are currently on. <br>\n",
    "To elaborate a little bit more on this.\n",
    "It is common practise that the Fishers put 'links' within the pages (hidden or not) to make the user redirect from the mimicked website to the ones they want. <br>\n",
    "This way we can see that if the % of these other links is low in comparison the one we are at it is possibly a Fishing website. <br>\n",
    "\n",
    "Since the data extracted from these websites is large, the funksion took me a lot of time. <br>\n",
    "So I have used threading to reduce it (~60min) <br>\n",
    "Please, if attempted to try it uncomment the line: <br> # urlData = urlData.head(500) at <a href=\"#loadingData\"> Loading data </a> <br>\n",
    "\n",
    "\n",
    "<hr />"
   ]
  },
  {
   "cell_type": "markdown",
   "id": "4e92ded5",
   "metadata": {},
   "source": [
    "<a id='New_Dataset'></a>\n",
    "##### Let's see and export the Dataset with the created features"
   ]
  },
  {
   "cell_type": "code",
   "execution_count": 11,
   "id": "b685b27f",
   "metadata": {},
   "outputs": [
    {
     "data": {
      "text/html": [
       "<div>\n",
       "<style scoped>\n",
       "    .dataframe tbody tr th:only-of-type {\n",
       "        vertical-align: middle;\n",
       "    }\n",
       "\n",
       "    .dataframe tbody tr th {\n",
       "        vertical-align: top;\n",
       "    }\n",
       "\n",
       "    .dataframe thead th {\n",
       "        text-align: right;\n",
       "    }\n",
       "</style>\n",
       "<table border=\"1\" class=\"dataframe\">\n",
       "  <thead>\n",
       "    <tr style=\"text-align: right;\">\n",
       "      <th></th>\n",
       "      <th>Labels</th>\n",
       "      <th>URLs</th>\n",
       "      <th>Domain</th>\n",
       "      <th>URL_Length</th>\n",
       "      <th>Domain_Length</th>\n",
       "      <th>URL_depth</th>\n",
       "      <th>URL_atSymbol</th>\n",
       "      <th>URL_IP</th>\n",
       "      <th>URL_HTTPS</th>\n",
       "      <th>Domain_HTTP</th>\n",
       "      <th>URL_RedirectPosition</th>\n",
       "      <th>URL_HyphenInDomain</th>\n",
       "      <th>URL_DotsNo</th>\n",
       "      <th>URL_NonASCHIIChar</th>\n",
       "      <th>URL_DigitsNo</th>\n",
       "      <th>HTMLJS_Features</th>\n",
       "    </tr>\n",
       "  </thead>\n",
       "  <tbody>\n",
       "    <tr>\n",
       "      <th>0</th>\n",
       "      <td>1</td>\n",
       "      <td>http://dbs.vote-friend.com/sg?ref=anything</td>\n",
       "      <td>dbs.vote-friend.com</td>\n",
       "      <td>0</td>\n",
       "      <td>1</td>\n",
       "      <td>0</td>\n",
       "      <td>0</td>\n",
       "      <td>0</td>\n",
       "      <td>1</td>\n",
       "      <td>0</td>\n",
       "      <td>1</td>\n",
       "      <td>1</td>\n",
       "      <td>-1</td>\n",
       "      <td>0</td>\n",
       "      <td>0</td>\n",
       "      <td>0</td>\n",
       "    </tr>\n",
       "    <tr>\n",
       "      <th>1</th>\n",
       "      <td>0</td>\n",
       "      <td>https://www.reynoldstransfer.com/versa-lift-fo...</td>\n",
       "      <td>reynoldstransfer.com</td>\n",
       "      <td>-1</td>\n",
       "      <td>1</td>\n",
       "      <td>-1</td>\n",
       "      <td>0</td>\n",
       "      <td>0</td>\n",
       "      <td>0</td>\n",
       "      <td>0</td>\n",
       "      <td>0</td>\n",
       "      <td>0</td>\n",
       "      <td>0</td>\n",
       "      <td>0</td>\n",
       "      <td>0</td>\n",
       "      <td>1</td>\n",
       "    </tr>\n",
       "    <tr>\n",
       "      <th>2</th>\n",
       "      <td>1</td>\n",
       "      <td>https://www.halisupportservice.com/Login.php</td>\n",
       "      <td>halisupportservice.com</td>\n",
       "      <td>0</td>\n",
       "      <td>1</td>\n",
       "      <td>0</td>\n",
       "      <td>0</td>\n",
       "      <td>0</td>\n",
       "      <td>0</td>\n",
       "      <td>0</td>\n",
       "      <td>0</td>\n",
       "      <td>0</td>\n",
       "      <td>0</td>\n",
       "      <td>0</td>\n",
       "      <td>0</td>\n",
       "      <td>0</td>\n",
       "    </tr>\n",
       "    <tr>\n",
       "      <th>3</th>\n",
       "      <td>0</td>\n",
       "      <td>https://www.signets.com.br/wp-includes/wlwmani...</td>\n",
       "      <td>signets.com.br</td>\n",
       "      <td>-1</td>\n",
       "      <td>-1</td>\n",
       "      <td>-1</td>\n",
       "      <td>0</td>\n",
       "      <td>0</td>\n",
       "      <td>0</td>\n",
       "      <td>0</td>\n",
       "      <td>0</td>\n",
       "      <td>0</td>\n",
       "      <td>-1</td>\n",
       "      <td>0</td>\n",
       "      <td>0</td>\n",
       "      <td>0</td>\n",
       "    </tr>\n",
       "    <tr>\n",
       "      <th>4</th>\n",
       "      <td>1</td>\n",
       "      <td>https://docs.google.com/document/d/e/2PACX-1vT...</td>\n",
       "      <td>docs.google.com</td>\n",
       "      <td>1</td>\n",
       "      <td>-1</td>\n",
       "      <td>1</td>\n",
       "      <td>0</td>\n",
       "      <td>0</td>\n",
       "      <td>0</td>\n",
       "      <td>0</td>\n",
       "      <td>0</td>\n",
       "      <td>0</td>\n",
       "      <td>-1</td>\n",
       "      <td>0</td>\n",
       "      <td>1</td>\n",
       "      <td>0</td>\n",
       "    </tr>\n",
       "    <tr>\n",
       "      <th>5</th>\n",
       "      <td>0</td>\n",
       "      <td>https://www.iwestco.com/virtual-consult/</td>\n",
       "      <td>iwestco.com</td>\n",
       "      <td>0</td>\n",
       "      <td>0</td>\n",
       "      <td>-1</td>\n",
       "      <td>0</td>\n",
       "      <td>0</td>\n",
       "      <td>0</td>\n",
       "      <td>0</td>\n",
       "      <td>0</td>\n",
       "      <td>0</td>\n",
       "      <td>0</td>\n",
       "      <td>0</td>\n",
       "      <td>0</td>\n",
       "      <td>0</td>\n",
       "    </tr>\n",
       "    <tr>\n",
       "      <th>6</th>\n",
       "      <td>1</td>\n",
       "      <td>https://is.gd/N19JOz</td>\n",
       "      <td>is.gd</td>\n",
       "      <td>0</td>\n",
       "      <td>1</td>\n",
       "      <td>0</td>\n",
       "      <td>0</td>\n",
       "      <td>0</td>\n",
       "      <td>0</td>\n",
       "      <td>0</td>\n",
       "      <td>0</td>\n",
       "      <td>0</td>\n",
       "      <td>0</td>\n",
       "      <td>0</td>\n",
       "      <td>0</td>\n",
       "      <td>0</td>\n",
       "    </tr>\n",
       "    <tr>\n",
       "      <th>7</th>\n",
       "      <td>1</td>\n",
       "      <td>https://httpsservices.runescape.com-ov.ru/</td>\n",
       "      <td>httpsservices.runescape.com-ov.ru</td>\n",
       "      <td>0</td>\n",
       "      <td>1</td>\n",
       "      <td>0</td>\n",
       "      <td>0</td>\n",
       "      <td>0</td>\n",
       "      <td>0</td>\n",
       "      <td>1</td>\n",
       "      <td>0</td>\n",
       "      <td>1</td>\n",
       "      <td>1</td>\n",
       "      <td>0</td>\n",
       "      <td>0</td>\n",
       "      <td>0</td>\n",
       "    </tr>\n",
       "    <tr>\n",
       "      <th>8</th>\n",
       "      <td>1</td>\n",
       "      <td>https://viandjo.com/website/membership/service...</td>\n",
       "      <td>viandjo.com</td>\n",
       "      <td>1</td>\n",
       "      <td>0</td>\n",
       "      <td>1</td>\n",
       "      <td>0</td>\n",
       "      <td>0</td>\n",
       "      <td>0</td>\n",
       "      <td>0</td>\n",
       "      <td>0</td>\n",
       "      <td>0</td>\n",
       "      <td>0</td>\n",
       "      <td>0</td>\n",
       "      <td>1</td>\n",
       "      <td>0</td>\n",
       "    </tr>\n",
       "    <tr>\n",
       "      <th>9</th>\n",
       "      <td>0</td>\n",
       "      <td>https://www.millect.com/Plans/tabid/76/Default...</td>\n",
       "      <td>millect.com</td>\n",
       "      <td>-1</td>\n",
       "      <td>0</td>\n",
       "      <td>1</td>\n",
       "      <td>0</td>\n",
       "      <td>0</td>\n",
       "      <td>0</td>\n",
       "      <td>0</td>\n",
       "      <td>0</td>\n",
       "      <td>0</td>\n",
       "      <td>0</td>\n",
       "      <td>0</td>\n",
       "      <td>0</td>\n",
       "      <td>0</td>\n",
       "    </tr>\n",
       "  </tbody>\n",
       "</table>\n",
       "</div>"
      ],
      "text/plain": [
       "   Labels                                               URLs  \\\n",
       "0       1         http://dbs.vote-friend.com/sg?ref=anything   \n",
       "1       0  https://www.reynoldstransfer.com/versa-lift-fo...   \n",
       "2       1       https://www.halisupportservice.com/Login.php   \n",
       "3       0  https://www.signets.com.br/wp-includes/wlwmani...   \n",
       "4       1  https://docs.google.com/document/d/e/2PACX-1vT...   \n",
       "5       0           https://www.iwestco.com/virtual-consult/   \n",
       "6       1                               https://is.gd/N19JOz   \n",
       "7       1         https://httpsservices.runescape.com-ov.ru/   \n",
       "8       1  https://viandjo.com/website/membership/service...   \n",
       "9       0  https://www.millect.com/Plans/tabid/76/Default...   \n",
       "\n",
       "                              Domain  URL_Length  Domain_Length  URL_depth  \\\n",
       "0                dbs.vote-friend.com           0              1          0   \n",
       "1               reynoldstransfer.com          -1              1         -1   \n",
       "2             halisupportservice.com           0              1          0   \n",
       "3                     signets.com.br          -1             -1         -1   \n",
       "4                    docs.google.com           1             -1          1   \n",
       "5                        iwestco.com           0              0         -1   \n",
       "6                              is.gd           0              1          0   \n",
       "7  httpsservices.runescape.com-ov.ru           0              1          0   \n",
       "8                        viandjo.com           1              0          1   \n",
       "9                        millect.com          -1              0          1   \n",
       "\n",
       "   URL_atSymbol  URL_IP  URL_HTTPS  Domain_HTTP  URL_RedirectPosition  \\\n",
       "0             0       0          1            0                     1   \n",
       "1             0       0          0            0                     0   \n",
       "2             0       0          0            0                     0   \n",
       "3             0       0          0            0                     0   \n",
       "4             0       0          0            0                     0   \n",
       "5             0       0          0            0                     0   \n",
       "6             0       0          0            0                     0   \n",
       "7             0       0          0            1                     0   \n",
       "8             0       0          0            0                     0   \n",
       "9             0       0          0            0                     0   \n",
       "\n",
       "   URL_HyphenInDomain  URL_DotsNo  URL_NonASCHIIChar  URL_DigitsNo  \\\n",
       "0                   1          -1                  0             0   \n",
       "1                   0           0                  0             0   \n",
       "2                   0           0                  0             0   \n",
       "3                   0          -1                  0             0   \n",
       "4                   0          -1                  0             1   \n",
       "5                   0           0                  0             0   \n",
       "6                   0           0                  0             0   \n",
       "7                   1           1                  0             0   \n",
       "8                   0           0                  0             1   \n",
       "9                   0           0                  0             0   \n",
       "\n",
       "   HTMLJS_Features  \n",
       "0                0  \n",
       "1                1  \n",
       "2                0  \n",
       "3                0  \n",
       "4                0  \n",
       "5                0  \n",
       "6                0  \n",
       "7                0  \n",
       "8                0  \n",
       "9                0  "
      ]
     },
     "execution_count": 11,
     "metadata": {},
     "output_type": "execute_result"
    }
   ],
   "source": [
    "# Feature extraction\n",
    "\n",
    "# 1. Domain name\n",
    "getDomain(urlData)\n",
    "\n",
    "# 2. URL length\n",
    "getURL_Length(urlData)\n",
    "\n",
    "# 3. Domain length\n",
    "getDomain_Length(urlData)\n",
    "\n",
    "# 3. URL depth (number of slashes)\n",
    "getURL_Depth(urlData)\n",
    "\n",
    "# 4. URL @ symbol presence\n",
    "getURL_AtSymbol(urlData)\n",
    "\n",
    "# 5. IP address presence in URL\n",
    "getURL_IP(urlData)\n",
    "\n",
    "# 6. Transport layer security (TLS) presence in URL\n",
    "getURL_HTTPs(urlData)\n",
    "\n",
    "# 7. HTTP/HTTPS presence in URL Domain\n",
    "getURLDomain_HTTP(urlData)\n",
    "\n",
    "# 8. // Redirect postion in URL\n",
    "getURL_RedirectPosition(urlData)\n",
    "\n",
    "# 9. Prefix and suffix '-'\n",
    "getURL_HyphenInDomain(urlData)\n",
    "\n",
    "# 10. Number of '.' in URL Domain\n",
    "getURL_Dot(urlData)\n",
    "\n",
    "# 11. Unicode characters in URL\n",
    "getURL_ASCII(urlData)\n",
    "\n",
    "# 12. Number of digits in URL\n",
    "getURL_Digits(urlData)\n",
    "\n",
    "# HTML JS features\n",
    "HTMLJS_FeaturesThreading(urlData)\n",
    "\n",
    "urlData.head(10)\n"
   ]
  },
  {
   "cell_type": "code",
   "execution_count": 12,
   "id": "be12361d",
   "metadata": {},
   "outputs": [],
   "source": [
    "# urlData.to_csv(r'data/20000URL_Features.csv', index = False)"
   ]
  },
  {
   "cell_type": "markdown",
   "id": "4751e57a",
   "metadata": {},
   "source": [
    "##### Loading the new Dataset"
   ]
  },
  {
   "cell_type": "code",
   "execution_count": 13,
   "id": "2c5a1fea",
   "metadata": {},
   "outputs": [],
   "source": [
    "# Loading newly generated dataset\n",
    "newUrlData = pd.read_csv(\"data/20000URL_Features.csv\")"
   ]
  },
  {
   "cell_type": "markdown",
   "id": "7507d2b3",
   "metadata": {},
   "source": [
    "<a id='New_Dataset'></a>\n",
    "After testing the Moodels we want to compare them with each - other.\n",
    "So I am creating holders Creating holders to store the models performance results."
   ]
  },
  {
   "cell_type": "code",
   "execution_count": 19,
   "id": "9b1df189",
   "metadata": {},
   "outputs": [],
   "source": [
    "ML_Model = []\n",
    "acc_train = []\n",
    "acc_test = []\n",
    "precision_train = []\n",
    "precision_test = []\n",
    "recall_train = []\n",
    "recall_test = []\n",
    "f1_train = []\n",
    "f1_test = []\n",
    "\n",
    "#function to call for storing the results\n",
    "def storeResults(model, a,b,c,d,e,f,g, h):\n",
    "    ML_Model.append(model)\n",
    "    acc_train.append(round(a, 3)),\n",
    "    acc_test.append(round(b, 3)),\n",
    "    precision_train.append(round(c, 3)),\n",
    "    precision_test.append(round(d, 3)),\n",
    "    recall_train.append(round(e, 3)),\n",
    "    recall_test.append(round(f, 3)),\n",
    "    f1_train.append(round(g, 3)),\n",
    "    f1_test.append(round(h, 3))"
   ]
  },
  {
   "cell_type": "markdown",
   "id": "8c8eeb90",
   "metadata": {},
   "source": [
    "#####  1. Decision Tree model"
   ]
  },
  {
   "cell_type": "code",
   "execution_count": 20,
   "id": "34506b70",
   "metadata": {},
   "outputs": [
    {
     "data": {
      "text/plain": [
       "((16000, 13), (4000, 13))"
      ]
     },
     "execution_count": 20,
     "metadata": {},
     "output_type": "execute_result"
    }
   ],
   "source": [
    "# Sepratating & assigning features and target columns to X & y\n",
    "y = newUrlData['Labels']\n",
    "X = newUrlData.drop('Labels', axis=1)\n",
    "X = X.drop('URLs', axis=1).drop('Domain', axis=1)\n",
    "\n",
    "\n",
    "X_train, X_test, y_train, y_test = train_test_split(X, y, \n",
    "                                                    test_size = 0.2, random_state = 12)\n",
    "X_train.shape, X_test.shape"
   ]
  },
  {
   "cell_type": "code",
   "execution_count": 21,
   "id": "474a4784",
   "metadata": {},
   "outputs": [
    {
     "name": "stdout",
     "output_type": "stream",
     "text": [
      "Decision Tree: Accuracy on training Data: 0.842\n",
      "Decision Tree: Accuracy on test Data: 0.832\n",
      "Decision Tree: Precision on training Data: 0.834\n",
      "Decision Tree: Precision on test Data: 0.823\n",
      "Decision Tree: Recall on training Data: 0.855\n",
      "Decision Tree: Recall on test Data: 0.839\n",
      "Decision Tree: F1 on training Data: 0.844\n",
      "Decision Tree: F1 on test Data: 0.831\n"
     ]
    }
   ],
   "source": [
    "# instantiate the model \n",
    "tree = DecisionTreeClassifier(max_depth = 5)\n",
    "# fit the model \n",
    "tree.fit(X_train, y_train)\n",
    "\n",
    "#predicting the target value from the model for the samples\n",
    "y_test_tree = tree.predict(X_test)\n",
    "y_train_tree = tree.predict(X_train)\n",
    "\n",
    "#computing the accuracy of the model performance\n",
    "acc_train_tree = accuracy_score(y_train,y_train_tree)\n",
    "acc_test_tree = accuracy_score(y_test,y_test_tree)\n",
    "\n",
    "precision_train_tree = precision_score(y_train,y_train_tree)\n",
    "precision_test_tree = precision_score(y_test,y_test_tree)\n",
    "\n",
    "recall_train_tree = recall_score(y_train,y_train_tree)\n",
    "recall_test_tree = recall_score(y_test,y_test_tree)\n",
    "\n",
    "f1_train_tree = f1_score(y_train,y_train_tree)\n",
    "f1_test_tree = f1_score(y_test,y_test_tree)\n",
    "\n",
    "print(\"Decision Tree: Accuracy on training Data: {:.3f}\".format(acc_train_tree))\n",
    "print(\"Decision Tree: Accuracy on test Data: {:.3f}\".format(acc_test_tree))\n",
    "\n",
    "print(\"Decision Tree: Precision on training Data: {:.3f}\".format(precision_train_tree))\n",
    "print(\"Decision Tree: Precision on test Data: {:.3f}\".format(precision_test_tree))\n",
    "\n",
    "print(\"Decision Tree: Recall on training Data: {:.3f}\".format(recall_train_tree))\n",
    "print(\"Decision Tree: Recall on test Data: {:.3f}\".format(recall_test_tree))\n",
    "\n",
    "print(\"Decision Tree: F1 on training Data: {:.3f}\".format(f1_train_tree))\n",
    "print(\"Decision Tree: F1 on test Data: {:.3f}\".format(f1_test_tree))"
   ]
  },
  {
   "cell_type": "markdown",
   "id": "600bd734",
   "metadata": {},
   "source": [
    "Let's see the feature importance for Decision Tree"
   ]
  },
  {
   "cell_type": "code",
   "execution_count": 22,
   "id": "b82d15a5",
   "metadata": {},
   "outputs": [
    {
     "data": {
      "image/png": "[encoded data removed]",
      "text/plain": [
       "<Figure size 648x504 with 1 Axes>"
      ]
     },
     "metadata": {},
     "output_type": "display_data"
    }
   ],
   "source": [
    "#checking the feature improtance in the model\n",
    "plt.figure(figsize=(9,7))\n",
    "n_features = X_train.shape[1]\n",
    "plt.barh(range(n_features), tree.feature_importances_, align='center')\n",
    "plt.yticks(np.arange(n_features), X_train.columns)\n",
    "plt.xlabel(\"Feature importance\")\n",
    "plt.ylabel(\"Feature\")\n",
    "plt.show()"
   ]
  },
  {
   "cell_type": "code",
   "execution_count": 23,
   "id": "8c4ad120",
   "metadata": {},
   "outputs": [],
   "source": [
    "#storing the results. The below mentioned order of parameter passing is important.\n",
    "storeResults('Decision Tree', acc_train_tree, acc_test_tree, precision_train_tree, precision_test_tree, recall_train_tree, recall_test_tree, f1_train_tree, f1_test_tree)"
   ]
  },
  {
   "cell_type": "markdown",
   "id": "01a28f51",
   "metadata": {},
   "source": [
    "#####  2. Random Forest Classifier"
   ]
  },
  {
   "cell_type": "code",
   "execution_count": 24,
   "id": "07fcb5ef",
   "metadata": {},
   "outputs": [
    {
     "name": "stdout",
     "output_type": "stream",
     "text": [
      "Random forest: Accuracy on training Data: 0.856\n",
      "Random forest: Accuracy on test Data: 0.854\n",
      "Random forest: Precision on training Data: 0.897\n",
      "Random forest: Precision on test Data: 0.897\n",
      "Random forest: Recall on training Data: 0.806\n",
      "Random forest: Recall on test Data: 0.794\n",
      "Random forest: F1 on training Data: 0.849\n",
      "Random forest: F1 on test Data: 0.842\n"
     ]
    }
   ],
   "source": [
    "# Random Forest model\n",
    "from sklearn.ensemble import RandomForestClassifier\n",
    "# Sepratating & assigning features and target columns to X & y\n",
    "y = newUrlData['Labels']\n",
    "X = newUrlData.drop('Labels', axis=1)\n",
    "X = X.drop('URLs', axis=1).drop('Domain', axis=1)\n",
    "\n",
    "X_train, X_test, y_train, y_test = train_test_split(X, y, \n",
    "                                                    test_size = 0.2, random_state = 12)\n",
    "X_train.shape, X_test.shape\n",
    "# instantiate the model\n",
    "forest = RandomForestClassifier(max_depth=5)\n",
    "\n",
    "# fit the model \n",
    "forest.fit(X_train, y_train)\n",
    "\n",
    "#predicting the target value from the model for the samples\n",
    "y_test_forest = forest.predict(X_test)\n",
    "y_train_forest = forest.predict(X_train)\n",
    "\n",
    "#computing the accuracy of the model performance\n",
    "acc_train_forest = accuracy_score(y_train,y_train_forest)\n",
    "acc_test_forest = accuracy_score(y_test,y_test_forest)\n",
    "\n",
    "precision_train_forest = precision_score(y_train,y_train_forest)\n",
    "precision_test_forest = precision_score(y_test,y_test_forest)\n",
    "recall_train_forest = recall_score(y_train,y_train_forest)\n",
    "recall_test_forest = recall_score(y_test,y_test_forest)\n",
    "\n",
    "f1_train_forest = f1_score(y_train,y_train_forest)\n",
    "f1_test_forest = f1_score(y_test,y_test_forest)\n",
    "\n",
    "\n",
    "print(\"Random forest: Accuracy on training Data: {:.3f}\".format(acc_train_forest))\n",
    "print(\"Random forest: Accuracy on test Data: {:.3f}\".format(acc_test_forest))\n",
    "\n",
    "print(\"Random forest: Precision on training Data: {:.3f}\".format(precision_train_forest))\n",
    "print(\"Random forest: Precision on test Data: {:.3f}\".format(precision_test_forest))\n",
    "\n",
    "print(\"Random forest: Recall on training Data: {:.3f}\".format(recall_train_forest))\n",
    "print(\"Random forest: Recall on test Data: {:.3f}\".format(recall_test_forest))\n",
    "\n",
    "print(\"Random forest: F1 on training Data: {:.3f}\".format(f1_train_forest))\n",
    "print(\"Random forest: F1 on test Data: {:.3f}\".format(f1_test_forest))\n"
   ]
  },
  {
   "cell_type": "markdown",
   "id": "63d4a8b1",
   "metadata": {},
   "source": [
    "Let's see again the feature importance for this Model"
   ]
  },
  {
   "cell_type": "code",
   "execution_count": 25,
   "id": "854a7cad",
   "metadata": {},
   "outputs": [
    {
     "data": {
      "image/png": "[encoded data removed]",
      "text/plain": [
       "<Figure size 648x504 with 1 Axes>"
      ]
     },
     "metadata": {},
     "output_type": "display_data"
    }
   ],
   "source": [
    "#checking the feature improtance in the model\n",
    "plt.figure(figsize=(9,7))\n",
    "n_features = X_train.shape[1]\n",
    "plt.barh(range(n_features), forest.feature_importances_, align='center')\n",
    "plt.yticks(np.arange(n_features), X_train.columns)\n",
    "plt.xlabel(\"Feature importance\")\n",
    "plt.ylabel(\"Feature\")\n",
    "plt.show()"
   ]
  },
  {
   "cell_type": "code",
   "execution_count": 26,
   "id": "475b8757",
   "metadata": {},
   "outputs": [],
   "source": [
    "#storing the results. The below mentioned order of parameter passing is important.\n",
    "storeResults('Random Forest', acc_train_forest, acc_test_forest, precision_train_forest, precision_test_forest, recall_train_forest, recall_test_forest, f1_train_forest, f1_test_forest)"
   ]
  },
  {
   "cell_type": "markdown",
   "id": "79a13fb7",
   "metadata": {},
   "source": [
    "#####  3. XGBoost Classifier"
   ]
  },
  {
   "cell_type": "code",
   "execution_count": 27,
   "id": "68359c71",
   "metadata": {},
   "outputs": [
    {
     "name": "stderr",
     "output_type": "stream",
     "text": [
      "c:\\Users\\Or3a\\anaconda3\\lib\\site-packages\\xgboost\\sklearn.py:1224: UserWarning: The use of label encoder in XGBClassifier is deprecated and will be removed in a future release. To remove this warning, do the following: 1) Pass option use_label_encoder=False when constructing XGBClassifier object; and 2) Encode your labels (y) as integers starting with 0, i.e. 0, 1, 2, ..., [num_class - 1].\n",
      "  warnings.warn(label_encoder_deprecation_msg, UserWarning)\n"
     ]
    },
    {
     "name": "stdout",
     "output_type": "stream",
     "text": [
      "[23:36:29] WARNING: ..\\src\\learner.cc:1115: Starting in XGBoost 1.3.0, the default evaluation metric used with the objective 'binary:logistic' was changed from 'error' to 'logloss'. Explicitly set eval_metric if you'd like to restore the old behavior.\n"
     ]
    },
    {
     "data": {
      "text/plain": [
       "XGBClassifier(base_score=0.5, booster='gbtree', colsample_bylevel=1,\n",
       "              colsample_bynode=1, colsample_bytree=1, enable_categorical=False,\n",
       "              gamma=0, gpu_id=-1, importance_type=None,\n",
       "              interaction_constraints='', learning_rate=0.4, max_delta_step=0,\n",
       "              max_depth=7, min_child_weight=1, missing=nan,\n",
       "              monotone_constraints='()', n_estimators=100, n_jobs=12,\n",
       "              num_parallel_tree=1, predictor='auto', random_state=0,\n",
       "              reg_alpha=0, reg_lambda=1, scale_pos_weight=1, subsample=1,\n",
       "              tree_method='exact', validate_parameters=1, verbosity=None)"
      ]
     },
     "execution_count": 27,
     "metadata": {},
     "output_type": "execute_result"
    }
   ],
   "source": [
    "#XGBoost Classification model\n",
    "from xgboost import XGBClassifier\n",
    "\n",
    "# Sepratating & assigning features and target columns to X & y\n",
    "y = newUrlData['Labels']\n",
    "X = newUrlData.drop('Labels', axis=1)\n",
    "X = X.drop('URLs', axis=1).drop('Domain', axis=1)\n",
    "\n",
    "X_train, X_test, y_train, y_test = train_test_split(X, y, \n",
    "                                                    test_size = 0.2, random_state = 12)\n",
    "X_train.shape, X_test.shape\n",
    "# instantiate the model\n",
    "xgb = XGBClassifier(learning_rate=0.4,max_depth=7)\n",
    "#fit the model\n",
    "xgb.fit(X_train, y_train)"
   ]
  },
  {
   "cell_type": "code",
   "execution_count": 28,
   "id": "7a585e63",
   "metadata": {},
   "outputs": [
    {
     "name": "stdout",
     "output_type": "stream",
     "text": [
      "XGB: Accuracy on training Data: 0.870\n",
      "XGB: Accuracy on test Data: 0.851\n",
      "XGB: Precision on training Data: 0.908\n",
      "XGB: Precision on test Data: 0.889\n",
      "XGB: Recall on training Data: 0.825\n",
      "XGB: Recall on test Data: 0.797\n",
      "XGB: F1 on training Data: 0.865\n",
      "XGB: F1 on test Data: 0.840\n"
     ]
    }
   ],
   "source": [
    "#predicting the target value from the model for the samples\n",
    "y_test_xgb = xgb.predict(X_test)\n",
    "y_train_xgb = xgb.predict(X_train)\n",
    "\n",
    "#computing the accuracy of the model performance\n",
    "acc_train_xgb = accuracy_score(y_train,y_train_xgb)\n",
    "acc_test_xgb = accuracy_score(y_test,y_test_xgb)\n",
    "\n",
    "precision_train_xgb = precision_score(y_train,y_train_xgb)\n",
    "precision_test_xgb = precision_score(y_test,y_test_xgb)\n",
    "\n",
    "recall_train_xgb = recall_score(y_train,y_train_xgb)\n",
    "recall_test_xgb = recall_score(y_test,y_test_xgb)\n",
    "\n",
    "f1_train_xgb = f1_score(y_train,y_train_xgb)\n",
    "f1_test_xgb = f1_score(y_test,y_test_xgb)\n",
    "\n",
    "\n",
    "print(\"XGB: Accuracy on training Data: {:.3f}\".format(acc_train_xgb))\n",
    "print(\"XGB: Accuracy on test Data: {:.3f}\".format(acc_test_xgb))\n",
    "\n",
    "print(\"XGB: Precision on training Data: {:.3f}\".format(precision_train_xgb))\n",
    "print(\"XGB: Precision on test Data: {:.3f}\".format(precision_test_xgb))\n",
    "\n",
    "print(\"XGB: Recall on training Data: {:.3f}\".format(recall_train_xgb))\n",
    "print(\"XGB: Recall on test Data: {:.3f}\".format(recall_test_xgb))\n",
    "\n",
    "print(\"XGB: F1 on training Data: {:.3f}\".format(f1_train_xgb))\n",
    "print(\"XGB: F1 on test Data: {:.3f}\".format(f1_test_xgb))"
   ]
  },
  {
   "cell_type": "markdown",
   "id": "90d5da98",
   "metadata": {},
   "source": [
    "Ploting the feature importance"
   ]
  },
  {
   "cell_type": "code",
   "execution_count": 29,
   "id": "9b44b2a5",
   "metadata": {},
   "outputs": [
    {
     "data": {
      "image/png": "[encoded data removed]",
      "text/plain": [
       "<Figure size 648x504 with 1 Axes>"
      ]
     },
     "metadata": {},
     "output_type": "display_data"
    }
   ],
   "source": [
    "#checking the feature improtance in the model\n",
    "plt.figure(figsize=(9,7))\n",
    "n_features = X_train.shape[1]\n",
    "plt.barh(range(n_features), xgb.feature_importances_, align='center')\n",
    "plt.yticks(np.arange(n_features), X_train.columns)\n",
    "plt.xlabel(\"Feature importance\")\n",
    "plt.ylabel(\"Feature\")\n",
    "plt.show()"
   ]
  },
  {
   "cell_type": "code",
   "execution_count": 30,
   "id": "054d1f3f",
   "metadata": {},
   "outputs": [],
   "source": [
    "#storing the results. The below mentioned order of parameter passing is important.\n",
    "#Caution: Execute only once to avoid duplications.\n",
    "storeResults('XGBoost', acc_train_xgb, acc_test_xgb, precision_train_xgb, precision_test_xgb, recall_train_xgb, recall_test_xgb, f1_train_xgb, f1_test_xgb)"
   ]
  },
  {
   "cell_type": "markdown",
   "id": "81cb4431",
   "metadata": {},
   "source": [
    "#####  4. KNN Classifier"
   ]
  },
  {
   "cell_type": "code",
   "execution_count": 31,
   "id": "60edf852",
   "metadata": {},
   "outputs": [
    {
     "name": "stdout",
     "output_type": "stream",
     "text": [
      "KNN: Accuracy on training Data: 0.852\n",
      "KNN: Accuracy on test Data: 0.843\n",
      "KNN: Precision on training Data: 0.856\n",
      "KNN: Precision on test Data: 0.849\n",
      "KNN: Recall on training Data: 0.848\n",
      "KNN: Recall on test Data: 0.829\n",
      "KNN: F1 on training Data: 0.852\n",
      "KNN: F1 on test Data: 0.839\n"
     ]
    }
   ],
   "source": [
    "# Sepratating & assigning features and target columns to X & y\n",
    "y = newUrlData['Labels']\n",
    "X = newUrlData.drop('Labels', axis=1)\n",
    "X = X.drop('URLs', axis=1).drop('Domain', axis=1)\n",
    "\n",
    "X_train, X_test, y_train, y_test = train_test_split(X, y, \n",
    "                                                    test_size = 0.2, random_state = 12)\n",
    "X_train.shape, X_test.shape\n",
    "# KNN model requires you to specify n_neighbors,\n",
    "# the number of points the classifier will look at to determine what class a new point belongs to\n",
    "KNN_model = KNeighborsClassifier(n_neighbors=5)\n",
    "\n",
    "# fit the model \n",
    "KNN_model.fit(X_train, y_train)\n",
    "\n",
    "#predicting the target value from the model for the samples\n",
    "y_test_KNN = KNN_model.predict(X_test)\n",
    "y_train_KNN = KNN_model.predict(X_train)\n",
    "\n",
    "#computing the accuracy of the model performance\n",
    "acc_train_KNN= accuracy_score(y_train,y_train_KNN)\n",
    "acc_test_KNN = accuracy_score(y_test,y_test_KNN)\n",
    "\n",
    "precision_train_KNN = precision_score(y_train,y_train_KNN)\n",
    "precision_test_KNN= precision_score(y_test,y_test_KNN)\n",
    "\n",
    "recall_train_KNN = recall_score(y_train,y_train_KNN)\n",
    "recall_test_KNN= recall_score(y_test,y_test_KNN)\n",
    "\n",
    "f1_train_KNN = f1_score(y_train,y_train_KNN)\n",
    "f1_test_KNN = f1_score(y_test,y_test_KNN)\n",
    "\n",
    "\n",
    "print(\"KNN: Accuracy on training Data: {:.3f}\".format(acc_train_KNN))\n",
    "print(\"KNN: Accuracy on test Data: {:.3f}\".format(acc_test_KNN))\n",
    "\n",
    "print(\"KNN: Precision on training Data: {:.3f}\".format(precision_train_KNN))\n",
    "print(\"KNN: Precision on test Data: {:.3f}\".format(precision_test_KNN))\n",
    "\n",
    "print(\"KNN: Recall on training Data: {:.3f}\".format(recall_train_KNN))\n",
    "print(\"KNN: Recall on test Data: {:.3f}\".format(recall_test_KNN))\n",
    "\n",
    "print(\"KNN: F1 on training Data: {:.3f}\".format(f1_train_KNN))\n",
    "print(\"KNN: F1 on test Data: {:.3f}\".format(f1_test_KNN))\n"
   ]
  },
  {
   "cell_type": "code",
   "execution_count": 32,
   "id": "892f9a5e",
   "metadata": {},
   "outputs": [],
   "source": [
    "storeResults('KNN', acc_train_KNN, acc_test_KNN, precision_train_KNN, precision_test_KNN, recall_train_KNN, recall_test_KNN, f1_train_KNN, f1_test_KNN)"
   ]
  },
  {
   "cell_type": "markdown",
   "id": "836a5d30",
   "metadata": {},
   "source": [
    "#####  5. ANN MODEL"
   ]
  },
  {
   "cell_type": "code",
   "execution_count": 33,
   "id": "fac77f4e",
   "metadata": {},
   "outputs": [],
   "source": [
    "# Sepratating & assigning features and target columns to X & y\n",
    "y = newUrlData['Labels']\n",
    "X = newUrlData.drop('Labels', axis=1)\n",
    "X = X.drop('URLs', axis=1).drop('Domain', axis=1)\n",
    "X_train, X_test, y_train, y_test = train_test_split(X, y, \n",
    "                                                    test_size = 0.2, random_state = 12)"
   ]
  },
  {
   "cell_type": "code",
   "execution_count": 34,
   "id": "0e18a2e4",
   "metadata": {},
   "outputs": [
    {
     "name": "stdout",
     "output_type": "stream",
     "text": [
      "Model: \"model\"\n",
      "_________________________________________________________________\n",
      " Layer (type)                Output Shape              Param #   \n",
      "=================================================================\n",
      " input_1 (InputLayer)        [(None, 13)]              0         \n",
      "                                                                 \n",
      " dense (Dense)               (None, 13)                182       \n",
      "                                                                 \n",
      " dense_1 (Dense)             (None, 13)                182       \n",
      "                                                                 \n",
      " dense_2 (Dense)             (None, 11)                154       \n",
      "                                                                 \n",
      " dense_5 (Dense)             (None, 13)                156       \n",
      "                                                                 \n",
      " dense_6 (Dense)             (None, 13)                182       \n",
      "                                                                 \n",
      "=================================================================\n",
      "Total params: 856\n",
      "Trainable params: 856\n",
      "Non-trainable params: 0\n",
      "_________________________________________________________________\n"
     ]
    }
   ],
   "source": [
    "#building autoencoder model\n",
    "\n",
    "input_dim = X_train.shape[1]\n",
    "encoding_dim = input_dim\n",
    "\n",
    "input_layer = Input(shape=(input_dim, ))\n",
    "encoder = Dense(encoding_dim, activation=\"relu\",\n",
    "                activity_regularizer=regularizers.l1(10e-4))(input_layer)\n",
    "encoder = Dense(int(encoding_dim), activation=\"relu\")(encoder)\n",
    "\n",
    "encoder = Dense(int(encoding_dim-2), activation=\"relu\")(encoder)\n",
    "code = Dense(int(encoding_dim-4), activation='relu')(encoder)\n",
    "decoder = Dense(int(encoding_dim-2), activation='relu')(code)\n",
    "\n",
    "decoder = Dense(int(encoding_dim), activation='relu')(encoder)\n",
    "decoder = Dense(input_dim, activation='relu')(decoder)\n",
    "autoencoder = Model(inputs=input_layer, outputs=decoder)\n",
    "autoencoder.summary()"
   ]
  },
  {
   "cell_type": "code",
   "execution_count": 35,
   "id": "0a8842e0",
   "metadata": {},
   "outputs": [
    {
     "name": "stdout",
     "output_type": "stream",
     "text": [
      "Epoch 1/10\n",
      "200/200 [==============================] - 1s 2ms/step - loss: -0.0356 - accuracy: 0.0437 - val_loss: -0.2132 - val_accuracy: 0.0063\n",
      "Epoch 2/10\n",
      "200/200 [==============================] - 0s 987us/step - loss: -0.2827 - accuracy: 0.0148 - val_loss: -0.2831 - val_accuracy: 0.0228\n",
      "Epoch 3/10\n",
      "200/200 [==============================] - 0s 972us/step - loss: -0.4505 - accuracy: 0.0542 - val_loss: -0.5979 - val_accuracy: 0.0819\n",
      "Epoch 4/10\n",
      "200/200 [==============================] - 0s 992us/step - loss: -0.6562 - accuracy: 0.1048 - val_loss: -0.7374 - val_accuracy: 0.1303\n",
      "Epoch 5/10\n",
      "200/200 [==============================] - 0s 992us/step - loss: -0.8213 - accuracy: 0.1721 - val_loss: -0.8977 - val_accuracy: 0.2378\n",
      "Epoch 6/10\n",
      "200/200 [==============================] - 0s 1ms/step - loss: -0.9091 - accuracy: 0.2725 - val_loss: -0.9407 - val_accuracy: 0.3125\n",
      "Epoch 7/10\n",
      "200/200 [==============================] - 0s 1ms/step - loss: -0.9332 - accuracy: 0.3102 - val_loss: -0.9616 - val_accuracy: 0.3016\n",
      "Epoch 8/10\n",
      "200/200 [==============================] - 0s 1ms/step - loss: -0.9484 - accuracy: 0.2982 - val_loss: -0.9863 - val_accuracy: 0.3128\n",
      "Epoch 9/10\n",
      "200/200 [==============================] - 0s 977us/step - loss: -0.9823 - accuracy: 0.3215 - val_loss: -1.0112 - val_accuracy: 0.3462\n",
      "Epoch 10/10\n",
      "200/200 [==============================] - 0s 951us/step - loss: -0.9054 - accuracy: 0.2760 - val_loss: -0.9608 - val_accuracy: 0.3144\n"
     ]
    }
   ],
   "source": [
    "#compiling the model\n",
    "autoencoder.compile(optimizer='adam',\n",
    "                    loss='binary_crossentropy',\n",
    "                    metrics=['accuracy'])\n",
    "\n",
    "#Training the model\n",
    "history = autoencoder.fit(X_train, X_train, epochs=10, batch_size=64, shuffle=True, validation_split=0.2) "
   ]
  },
  {
   "cell_type": "code",
   "execution_count": 36,
   "id": "8edc4e0c",
   "metadata": {},
   "outputs": [
    {
     "name": "stdout",
     "output_type": "stream",
     "text": [
      "500/500 [==============================] - 0s 741us/step - loss: -0.9470 - accuracy: 0.3156\n",
      "125/125 [==============================] - 0s 679us/step - loss: -0.9310 - accuracy: 0.3167\n",
      "\n",
      "Autoencoder: Accuracy on training Data: 0.316\n",
      "Autoencoder: Accuracy on test Data: 0.317\n"
     ]
    }
   ],
   "source": [
    "acc_train_auto = autoencoder.evaluate(X_train, X_train)[1]\n",
    "acc_test_auto = autoencoder.evaluate(X_test, X_test)[1]\n",
    "\n",
    "print('\\nAutoencoder: Accuracy on training Data: {:.3f}' .format(acc_train_auto))\n",
    "print('Autoencoder: Accuracy on test Data: {:.3f}' .format(acc_test_auto))"
   ]
  },
  {
   "cell_type": "markdown",
   "id": "675dd659",
   "metadata": {},
   "source": [
    "We can say without even going further that it's not the proper Model approach for this kind of dataset\n",
    "<hr />"
   ]
  },
  {
   "cell_type": "markdown",
   "id": "8e5253c5",
   "metadata": {},
   "source": [
    "If you notice I showed feature_importances after training the model to see how it affected them differently.<br>\n",
    "This is why I decided to not do Feature selection since the beginning. (Other then the fact that I chose my own Features)"
   ]
  },
  {
   "cell_type": "markdown",
   "id": "06f67581",
   "metadata": {},
   "source": [
    "<a id='Observe'></a>\n",
    "##### Let's observe, shall we?"
   ]
  },
  {
   "cell_type": "code",
   "execution_count": 37,
   "id": "f224318f",
   "metadata": {},
   "outputs": [
    {
     "data": {
      "text/html": [
       "<div>\n",
       "<style scoped>\n",
       "    .dataframe tbody tr th:only-of-type {\n",
       "        vertical-align: middle;\n",
       "    }\n",
       "\n",
       "    .dataframe tbody tr th {\n",
       "        vertical-align: top;\n",
       "    }\n",
       "\n",
       "    .dataframe thead th {\n",
       "        text-align: right;\n",
       "    }\n",
       "</style>\n",
       "<table border=\"1\" class=\"dataframe\">\n",
       "  <thead>\n",
       "    <tr style=\"text-align: right;\">\n",
       "      <th></th>\n",
       "      <th>ML Model</th>\n",
       "      <th>Train Accuracy</th>\n",
       "      <th>Test Accuracy</th>\n",
       "      <th>Train Precision</th>\n",
       "      <th>Test Precision</th>\n",
       "      <th>Train Recall</th>\n",
       "      <th>Test Recall</th>\n",
       "      <th>Train F1</th>\n",
       "      <th>Test F1</th>\n",
       "    </tr>\n",
       "  </thead>\n",
       "  <tbody>\n",
       "    <tr>\n",
       "      <th>0</th>\n",
       "      <td>Decision Tree</td>\n",
       "      <td>0.842</td>\n",
       "      <td>0.832</td>\n",
       "      <td>0.834</td>\n",
       "      <td>0.823</td>\n",
       "      <td>0.855</td>\n",
       "      <td>0.839</td>\n",
       "      <td>0.844</td>\n",
       "      <td>0.831</td>\n",
       "    </tr>\n",
       "    <tr>\n",
       "      <th>1</th>\n",
       "      <td>Random Forest</td>\n",
       "      <td>0.856</td>\n",
       "      <td>0.854</td>\n",
       "      <td>0.897</td>\n",
       "      <td>0.897</td>\n",
       "      <td>0.806</td>\n",
       "      <td>0.794</td>\n",
       "      <td>0.849</td>\n",
       "      <td>0.842</td>\n",
       "    </tr>\n",
       "    <tr>\n",
       "      <th>2</th>\n",
       "      <td>XGBoost</td>\n",
       "      <td>0.870</td>\n",
       "      <td>0.851</td>\n",
       "      <td>0.908</td>\n",
       "      <td>0.889</td>\n",
       "      <td>0.825</td>\n",
       "      <td>0.797</td>\n",
       "      <td>0.865</td>\n",
       "      <td>0.840</td>\n",
       "    </tr>\n",
       "    <tr>\n",
       "      <th>3</th>\n",
       "      <td>KNN</td>\n",
       "      <td>0.852</td>\n",
       "      <td>0.843</td>\n",
       "      <td>0.856</td>\n",
       "      <td>0.849</td>\n",
       "      <td>0.848</td>\n",
       "      <td>0.829</td>\n",
       "      <td>0.852</td>\n",
       "      <td>0.839</td>\n",
       "    </tr>\n",
       "  </tbody>\n",
       "</table>\n",
       "</div>"
      ],
      "text/plain": [
       "        ML Model  Train Accuracy  Test Accuracy  Train Precision  \\\n",
       "0  Decision Tree           0.842          0.832            0.834   \n",
       "1  Random Forest           0.856          0.854            0.897   \n",
       "2        XGBoost           0.870          0.851            0.908   \n",
       "3            KNN           0.852          0.843            0.856   \n",
       "\n",
       "   Test Precision  Train Recall  Test Recall  Train F1  Test F1  \n",
       "0           0.823         0.855        0.839     0.844    0.831  \n",
       "1           0.897         0.806        0.794     0.849    0.842  \n",
       "2           0.889         0.825        0.797     0.865    0.840  \n",
       "3           0.849         0.848        0.829     0.852    0.839  "
      ]
     },
     "execution_count": 37,
     "metadata": {},
     "output_type": "execute_result"
    }
   ],
   "source": [
    "#creating dataframe\n",
    "results = pd.DataFrame({ 'ML Model': ML_Model,    \n",
    "    'Train Accuracy': acc_train,\n",
    "    'Test Accuracy': acc_test,\n",
    "    'Train Precision': precision_train,\n",
    "    'Test Precision': precision_test,\n",
    "    'Train Recall': recall_train,\n",
    "    'Test Recall': recall_test,\n",
    "    'Train F1': f1_train,\n",
    "    'Test F1': f1_test,\n",
    "    })\n",
    "results"
   ]
  },
  {
   "cell_type": "markdown",
   "id": "ea6cfad9",
   "metadata": {},
   "source": [
    "On personal preference, Accuracy and Precision are the most Important for this datase. <br>\n",
    "In this case XGBoost is the preferred model.<br>\n",
    "\n",
    "Let's save it to continue the project in another time "
   ]
  },
  {
   "cell_type": "code",
   "execution_count": 39,
   "id": "d39dfdc0",
   "metadata": {},
   "outputs": [],
   "source": [
    "# save XGBoost model to file\n",
    "import pickle\n",
    "pickle.dump(xgb, open(\"XGBoostClassifier.pickle.dat\", \"wb\"))"
   ]
  },
  {
   "cell_type": "markdown",
   "id": "15dceab2",
   "metadata": {},
   "source": [
    "<a id='References'></a>\n",
    "##### References\n",
    " - Intelligent phishing url detection using association rule mining\n",
    " - https://blog.keras.io/building-autoencoders-in-keras.html\n",
    " - https://www.kaggle.com/code/fadilparves/pishing-detection-using-machine-learning"
   ]
  }
 ],
 "metadata": {
  "interpreter": {
   "hash": "582b2c93e9335eb4e4d9d955c22ea30799372105e7a46fd4b2ccdcb87e443904"
  },
  "kernelspec": {
   "display_name": "Python 3 (ipykernel)",
   "language": "python",
   "name": "python3"
  },
  "language_info": {
   "codemirror_mode": {
    "name": "ipython",
    "version": 3
   },
   "file_extension": ".py",
   "mimetype": "text/x-python",
   "name": "python",
   "nbconvert_exporter": "python",
   "pygments_lexer": "ipython3",
   "version": "3.9.7"
  }
 },
 "nbformat": 4,
 "nbformat_minor": 5
}
